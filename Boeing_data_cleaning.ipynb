{
 "cells": [
  {
   "cell_type": "code",
   "execution_count": 13,
   "metadata": {},
   "outputs": [],
   "source": [
    "import numpy as np\n",
    "import pandas as pd\n",
    "from pandas import read_csv\n",
    "from pandas import datetime\n",
    "from matplotlib import pyplot as plt\n",
    "from pandas.core import datetools\n",
    "from pandas import Series, DataFrame\n",
    "\n",
    "from pandas.tools.plotting import autocorrelation_plot\n",
    "from statsmodels.graphics.tsaplots import plot_acf\n",
    "from statsmodels.graphics.tsaplots import plot_pacf\n"
   ]
  },
  {
   "cell_type": "code",
   "execution_count": 14,
   "metadata": {},
   "outputs": [],
   "source": [
    "df=pd.read_csv('Boeing_daily.csv')"
   ]
  },
  {
   "cell_type": "code",
   "execution_count": 15,
   "metadata": {},
   "outputs": [],
   "source": [
    "SP=pd.read_csv('SP.csv')"
   ]
  },
  {
   "cell_type": "code",
   "execution_count": 16,
   "metadata": {},
   "outputs": [],
   "source": [
    "oil=pd.read_csv('oil-prices.csv')"
   ]
  },
  {
   "cell_type": "code",
   "execution_count": 17,
   "metadata": {},
   "outputs": [
    {
     "name": "stdout",
     "output_type": "stream",
     "text": [
      "<class 'pandas.core.frame.DataFrame'>\n",
      "RangeIndex: 2515 entries, 0 to 2514\n",
      "Data columns (total 7 columns):\n",
      "Date         2515 non-null object\n",
      "Open         2515 non-null float64\n",
      "High         2515 non-null float64\n",
      "Low          2515 non-null float64\n",
      "Close        2515 non-null float64\n",
      "Adj Close    2515 non-null float64\n",
      "Volume       2515 non-null int64\n",
      "dtypes: float64(5), int64(1), object(1)\n",
      "memory usage: 137.6+ KB\n"
     ]
    }
   ],
   "source": [
    "df.info()"
   ]
  },
  {
   "cell_type": "code",
   "execution_count": 18,
   "metadata": {},
   "outputs": [
    {
     "data": {
      "text/html": [
       "<div>\n",
       "<style scoped>\n",
       "    .dataframe tbody tr th:only-of-type {\n",
       "        vertical-align: middle;\n",
       "    }\n",
       "\n",
       "    .dataframe tbody tr th {\n",
       "        vertical-align: top;\n",
       "    }\n",
       "\n",
       "    .dataframe thead th {\n",
       "        text-align: right;\n",
       "    }\n",
       "</style>\n",
       "<table border=\"1\" class=\"dataframe\">\n",
       "  <thead>\n",
       "    <tr style=\"text-align: right;\">\n",
       "      <th></th>\n",
       "      <th>Date</th>\n",
       "      <th>Open</th>\n",
       "      <th>High</th>\n",
       "      <th>Low</th>\n",
       "      <th>Close</th>\n",
       "      <th>Adj Close</th>\n",
       "      <th>Volume</th>\n",
       "    </tr>\n",
       "  </thead>\n",
       "  <tbody>\n",
       "    <tr>\n",
       "      <th>0</th>\n",
       "      <td>2009-04-30</td>\n",
       "      <td>876.590027</td>\n",
       "      <td>888.700012</td>\n",
       "      <td>868.510010</td>\n",
       "      <td>872.809998</td>\n",
       "      <td>872.809998</td>\n",
       "      <td>6862540000</td>\n",
       "    </tr>\n",
       "    <tr>\n",
       "      <th>1</th>\n",
       "      <td>2009-05-01</td>\n",
       "      <td>872.739990</td>\n",
       "      <td>880.479980</td>\n",
       "      <td>866.099976</td>\n",
       "      <td>877.520020</td>\n",
       "      <td>877.520020</td>\n",
       "      <td>5312170000</td>\n",
       "    </tr>\n",
       "    <tr>\n",
       "      <th>2</th>\n",
       "      <td>2009-05-04</td>\n",
       "      <td>879.210022</td>\n",
       "      <td>907.849976</td>\n",
       "      <td>879.210022</td>\n",
       "      <td>907.239990</td>\n",
       "      <td>907.239990</td>\n",
       "      <td>7038840000</td>\n",
       "    </tr>\n",
       "    <tr>\n",
       "      <th>3</th>\n",
       "      <td>2009-05-05</td>\n",
       "      <td>906.099976</td>\n",
       "      <td>907.700012</td>\n",
       "      <td>897.340027</td>\n",
       "      <td>903.799988</td>\n",
       "      <td>903.799988</td>\n",
       "      <td>6882860000</td>\n",
       "    </tr>\n",
       "    <tr>\n",
       "      <th>4</th>\n",
       "      <td>2009-05-06</td>\n",
       "      <td>903.950012</td>\n",
       "      <td>920.280029</td>\n",
       "      <td>903.950012</td>\n",
       "      <td>919.530029</td>\n",
       "      <td>919.530029</td>\n",
       "      <td>8555040000</td>\n",
       "    </tr>\n",
       "  </tbody>\n",
       "</table>\n",
       "</div>"
      ],
      "text/plain": [
       "         Date        Open        High         Low       Close   Adj Close  \\\n",
       "0  2009-04-30  876.590027  888.700012  868.510010  872.809998  872.809998   \n",
       "1  2009-05-01  872.739990  880.479980  866.099976  877.520020  877.520020   \n",
       "2  2009-05-04  879.210022  907.849976  879.210022  907.239990  907.239990   \n",
       "3  2009-05-05  906.099976  907.700012  897.340027  903.799988  903.799988   \n",
       "4  2009-05-06  903.950012  920.280029  903.950012  919.530029  919.530029   \n",
       "\n",
       "       Volume  \n",
       "0  6862540000  \n",
       "1  5312170000  \n",
       "2  7038840000  \n",
       "3  6882860000  \n",
       "4  8555040000  "
      ]
     },
     "execution_count": 18,
     "metadata": {},
     "output_type": "execute_result"
    }
   ],
   "source": [
    "SP.head()"
   ]
  },
  {
   "cell_type": "code",
   "execution_count": 19,
   "metadata": {},
   "outputs": [],
   "source": [
    "df.columns=['Date', 'Open', 'High', 'Low', 'Close', 'Adj_Close', 'Volume']"
   ]
  },
  {
   "cell_type": "code",
   "execution_count": 20,
   "metadata": {},
   "outputs": [],
   "source": [
    "SP.columns=['Date', 'Open', 'High', 'Low', 'Close', 'Adj_Close_SP', 'Volume']"
   ]
  },
  {
   "cell_type": "code",
   "execution_count": 21,
   "metadata": {},
   "outputs": [],
   "source": [
    "df['Date']=pd.to_datetime(df[\"Date\"])\n",
    "SP['Date']=pd.to_datetime(SP[\"Date\"])"
   ]
  },
  {
   "cell_type": "code",
   "execution_count": 22,
   "metadata": {},
   "outputs": [],
   "source": [
    "df=df[[\"Date\",'Adj_Close',\"Volume\"]]"
   ]
  },
  {
   "cell_type": "code",
   "execution_count": 23,
   "metadata": {},
   "outputs": [],
   "source": [
    "SP=SP[[\"Date\",'Adj_Close_SP']]"
   ]
  },
  {
   "cell_type": "code",
   "execution_count": 24,
   "metadata": {},
   "outputs": [
    {
     "data": {
      "text/html": [
       "<div>\n",
       "<style scoped>\n",
       "    .dataframe tbody tr th:only-of-type {\n",
       "        vertical-align: middle;\n",
       "    }\n",
       "\n",
       "    .dataframe tbody tr th {\n",
       "        vertical-align: top;\n",
       "    }\n",
       "\n",
       "    .dataframe thead th {\n",
       "        text-align: right;\n",
       "    }\n",
       "</style>\n",
       "<table border=\"1\" class=\"dataframe\">\n",
       "  <thead>\n",
       "    <tr style=\"text-align: right;\">\n",
       "      <th></th>\n",
       "      <th>date</th>\n",
       "      <th>value</th>\n",
       "    </tr>\n",
       "  </thead>\n",
       "  <tbody>\n",
       "    <tr>\n",
       "      <th>2513</th>\n",
       "      <td>2019-04-23</td>\n",
       "      <td>66.30</td>\n",
       "    </tr>\n",
       "    <tr>\n",
       "      <th>2514</th>\n",
       "      <td>2019-04-24</td>\n",
       "      <td>65.89</td>\n",
       "    </tr>\n",
       "    <tr>\n",
       "      <th>2515</th>\n",
       "      <td>2019-04-25</td>\n",
       "      <td>65.21</td>\n",
       "    </tr>\n",
       "    <tr>\n",
       "      <th>2516</th>\n",
       "      <td>2019-04-26</td>\n",
       "      <td>63.30</td>\n",
       "    </tr>\n",
       "    <tr>\n",
       "      <th>2517</th>\n",
       "      <td>2019-04-29</td>\n",
       "      <td>63.50</td>\n",
       "    </tr>\n",
       "  </tbody>\n",
       "</table>\n",
       "</div>"
      ],
      "text/plain": [
       "           date   value\n",
       "2513 2019-04-23   66.30\n",
       "2514 2019-04-24   65.89\n",
       "2515 2019-04-25   65.21\n",
       "2516 2019-04-26   63.30\n",
       "2517 2019-04-29   63.50"
      ]
     },
     "execution_count": 24,
     "metadata": {},
     "output_type": "execute_result"
    }
   ],
   "source": [
    "oil['date']=pd.to_datetime(oil[\"date\"])\n",
    "oil.tail()"
   ]
  },
  {
   "cell_type": "code",
   "execution_count": 25,
   "metadata": {},
   "outputs": [],
   "source": [
    "oil.columns=[\"Date\",\"Oil_price\"]"
   ]
  },
  {
   "cell_type": "code",
   "execution_count": 26,
   "metadata": {},
   "outputs": [],
   "source": [
    "data=df.merge(oil,on=\"Date\",how='left')\n",
    "data=data.merge(SP,on=\"Date\",how='left')"
   ]
  },
  {
   "cell_type": "code",
   "execution_count": 27,
   "metadata": {},
   "outputs": [],
   "source": [
    "#data=data.set_index(data.Date)\n",
    "#data=data.drop(\"Date\",axis=1)"
   ]
  },
  {
   "cell_type": "code",
   "execution_count": 28,
   "metadata": {},
   "outputs": [
    {
     "data": {
      "text/html": [
       "<div>\n",
       "<style scoped>\n",
       "    .dataframe tbody tr th:only-of-type {\n",
       "        vertical-align: middle;\n",
       "    }\n",
       "\n",
       "    .dataframe tbody tr th {\n",
       "        vertical-align: top;\n",
       "    }\n",
       "\n",
       "    .dataframe thead th {\n",
       "        text-align: right;\n",
       "    }\n",
       "</style>\n",
       "<table border=\"1\" class=\"dataframe\">\n",
       "  <thead>\n",
       "    <tr style=\"text-align: right;\">\n",
       "      <th></th>\n",
       "      <th>Date</th>\n",
       "      <th>Adj_Close</th>\n",
       "      <th>Volume</th>\n",
       "      <th>Oil_price</th>\n",
       "      <th>Adj_Close_SP</th>\n",
       "    </tr>\n",
       "  </thead>\n",
       "  <tbody>\n",
       "    <tr>\n",
       "      <th>0</th>\n",
       "      <td>2009-05-01</td>\n",
       "      <td>31.726078</td>\n",
       "      <td>5508800</td>\n",
       "      <td>53.20</td>\n",
       "      <td>877.520020</td>\n",
       "    </tr>\n",
       "    <tr>\n",
       "      <th>1</th>\n",
       "      <td>2009-05-04</td>\n",
       "      <td>32.472832</td>\n",
       "      <td>5269800</td>\n",
       "      <td>54.47</td>\n",
       "      <td>907.239990</td>\n",
       "    </tr>\n",
       "    <tr>\n",
       "      <th>2</th>\n",
       "      <td>2009-05-05</td>\n",
       "      <td>33.219616</td>\n",
       "      <td>7683900</td>\n",
       "      <td>53.84</td>\n",
       "      <td>903.799988</td>\n",
       "    </tr>\n",
       "    <tr>\n",
       "      <th>3</th>\n",
       "      <td>2009-05-06</td>\n",
       "      <td>34.362438</td>\n",
       "      <td>7930300</td>\n",
       "      <td>56.34</td>\n",
       "      <td>919.530029</td>\n",
       "    </tr>\n",
       "    <tr>\n",
       "      <th>4</th>\n",
       "      <td>2009-05-07</td>\n",
       "      <td>33.841553</td>\n",
       "      <td>7106700</td>\n",
       "      <td>56.71</td>\n",
       "      <td>907.390015</td>\n",
       "    </tr>\n",
       "  </tbody>\n",
       "</table>\n",
       "</div>"
      ],
      "text/plain": [
       "        Date  Adj_Close   Volume  Oil_price  Adj_Close_SP\n",
       "0 2009-05-01  31.726078  5508800      53.20    877.520020\n",
       "1 2009-05-04  32.472832  5269800      54.47    907.239990\n",
       "2 2009-05-05  33.219616  7683900      53.84    903.799988\n",
       "3 2009-05-06  34.362438  7930300      56.34    919.530029\n",
       "4 2009-05-07  33.841553  7106700      56.71    907.390015"
      ]
     },
     "execution_count": 28,
     "metadata": {},
     "output_type": "execute_result"
    }
   ],
   "source": [
    "data.head()"
   ]
  },
  {
   "cell_type": "code",
   "execution_count": 29,
   "metadata": {},
   "outputs": [
    {
     "data": {
      "image/png": "[encoded data removed]",
      "text/plain": [
       "<Figure size 432x288 with 1 Axes>"
      ]
     },
     "metadata": {},
     "output_type": "display_data"
    }
   ],
   "source": [
    "data[\"Adj_Close\"].plot()\n",
    "plt.show()"
   ]
  },
  {
   "cell_type": "code",
   "execution_count": 30,
   "metadata": {},
   "outputs": [],
   "source": [
    "data.to_csv('all.csv',index=False)"
   ]
  }
 ],
 "metadata": {
  "kernelspec": {
   "display_name": "Python 3",
   "language": "python",
   "name": "python3"
  },
  "language_info": {
   "codemirror_mode": {
    "name": "ipython",
    "version": 3
   },
   "file_extension": ".py",
   "mimetype": "text/x-python",
   "name": "python",
   "nbconvert_exporter": "python",
   "pygments_lexer": "ipython3",
   "version": "3.6.5"
  }
 },
 "nbformat": 4,
 "nbformat_minor": 2
}
