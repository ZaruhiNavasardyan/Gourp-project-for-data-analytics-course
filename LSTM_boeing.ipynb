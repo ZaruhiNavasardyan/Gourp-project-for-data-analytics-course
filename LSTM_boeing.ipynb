{
 "cells": [
  {
   "cell_type": "code",
   "execution_count": 2,
   "metadata": {},
   "outputs": [
    {
     "name": "stderr",
     "output_type": "stream",
     "text": [
      "C:\\Users\\Acer\\Anaconda2\\lib\\site-packages\\ipykernel_launcher.py:6: FutureWarning: The pandas.core.datetools module is deprecated and will be removed in a future version. Please use the pandas.tseries module instead.\n",
      "  \n",
      "C:\\Users\\Acer\\Anaconda2\\lib\\site-packages\\h5py\\__init__.py:36: FutureWarning: Conversion of the second argument of issubdtype from `float` to `np.floating` is deprecated. In future, it will be treated as `np.float64 == np.dtype(float).type`.\n",
      "  from ._conv import register_converters as _register_converters\n",
      "Using TensorFlow backend.\n"
     ]
    }
   ],
   "source": [
    "import numpy as np\n",
    "import pandas as pd\n",
    "from pandas import read_csv\n",
    "from pandas import datetime\n",
    "from matplotlib import pyplot as plt\n",
    "from pandas.core import datetools\n",
    "from pandas import Series, DataFrame\n",
    "\n",
    "from pandas.tools.plotting import autocorrelation_plot\n",
    "from statsmodels.graphics.tsaplots import plot_acf\n",
    "from statsmodels.graphics.tsaplots import plot_pacf\n",
    "\n",
    "import statsmodels.api as sm\n",
    "import statsmodels.tsa.api as smt\n",
    "import statsmodels.formula.api as smf\n",
    "import scipy.stats as scs\n",
    "import statsmodels.stats as sms\n",
    "from statsmodels.tsa.arima_model import ARIMA\n",
    "from matplotlib import pyplot as plt\n",
    "from pmdarima.arima import auto_arima\n",
    "from statsmodels.tsa.stattools import adfuller\n",
    "\n",
    "from arch import arch_model\n",
    "\n",
    "from scipy.stats import spearmanr,ttest_ind\n",
    "from sklearn.preprocessing import MinMaxScaler\n",
    "\n",
    "from keras.models import Sequential\n",
    "from keras.layers import Dense\n",
    "from keras.layers import LSTM\n",
    "from keras.layers import Dropout"
   ]
  },
  {
   "cell_type": "markdown",
   "metadata": {},
   "source": [
    "# LSTM"
   ]
  },
  {
   "cell_type": "code",
   "execution_count": 3,
   "metadata": {},
   "outputs": [
    {
     "name": "stdout",
     "output_type": "stream",
     "text": [
      "2515\n"
     ]
    }
   ],
   "source": [
    "df=pd.read_csv('Boeing_daily.csv')\n",
    "print(len(df))\n",
    "df.columns=['Date', 'Open', 'High', 'Low', 'Close', 'Adj_Close', 'Volume']\n",
    "df['Date']=pd.to_datetime(df[\"Date\"])\n",
    "#df=df.set_index(df.Date)\n",
    "#df=df.drop(\"Date\",axis=1)"
   ]
  },
  {
   "cell_type": "code",
   "execution_count": 19,
   "metadata": {},
   "outputs": [],
   "source": [
    "#using_all_data_before_1\n",
    "end_date ='2018-10-28'\n",
    "test_start='2018-10-29'\n",
    "test_end='2019-03-10'"
   ]
  },
  {
   "cell_type": "code",
   "execution_count": 20,
   "metadata": {},
   "outputs": [],
   "source": [
    "Train=df[df.Date<=end_date]\n",
    "Test=df[(df.Date>=test_start) & (df.Date<test_end)]"
   ]
  },
  {
   "cell_type": "code",
   "execution_count": 21,
   "metadata": {},
   "outputs": [],
   "source": [
    "train=Train.iloc[:, 1:2].values\n",
    "test=Test.iloc[:, 1:2].values"
   ]
  },
  {
   "cell_type": "code",
   "execution_count": 22,
   "metadata": {},
   "outputs": [],
   "source": [
    "sc = MinMaxScaler(feature_range = (0, 1))\n",
    "train_scaled = sc.fit_transform(train)"
   ]
  },
  {
   "cell_type": "code",
   "execution_count": 23,
   "metadata": {},
   "outputs": [
    {
     "name": "stdout",
     "output_type": "stream",
     "text": [
      "Train: 2391\n",
      "test: 89\n",
      "test_size: 3.588709677419355\n"
     ]
    }
   ],
   "source": [
    "print(\"Train:\",len(train))\n",
    "print('test:',len(test))\n",
    "print('test_size:',len(test)*100/(len(train)+len(test)))"
   ]
  },
  {
   "cell_type": "code",
   "execution_count": 24,
   "metadata": {},
   "outputs": [],
   "source": [
    "X_train = []\n",
    "y_train = []\n",
    "for i in range(60, len(train)):\n",
    "    X_train.append(train_scaled[i-60:i, 0])\n",
    "    y_train.append(train_scaled[i, 0])\n",
    "X_train, y_train = np.array(X_train), np.array(y_train)\n",
    "X_train = np.reshape(X_train, (X_train.shape[0], X_train.shape[1], 1))"
   ]
  },
  {
   "cell_type": "code",
   "execution_count": 30,
   "metadata": {},
   "outputs": [
    {
     "name": "stdout",
     "output_type": "stream",
     "text": [
      "Epoch 1/30\n",
      "2331/2331 [==============================] - 52s 22ms/step - loss: 0.0153\n",
      "Epoch 2/30\n",
      "2331/2331 [==============================] - 40s 17ms/step - loss: 0.0019\n",
      "Epoch 3/30\n",
      "2331/2331 [==============================] - 38s 16ms/step - loss: 0.0020\n",
      "Epoch 4/30\n",
      "2331/2331 [==============================] - 39s 17ms/step - loss: 0.0018\n",
      "Epoch 5/30\n",
      "2331/2331 [==============================] - 43s 19ms/step - loss: 0.0017\n",
      "Epoch 6/30\n",
      "2331/2331 [==============================] - 44s 19ms/step - loss: 0.0015\n",
      "Epoch 7/30\n",
      "2331/2331 [==============================] - 44s 19ms/step - loss: 0.0013\n",
      "Epoch 8/30\n",
      "2331/2331 [==============================] - 45s 19ms/step - loss: 0.0013\n",
      "Epoch 9/30\n",
      "2331/2331 [==============================] - 43s 18ms/step - loss: 0.0012\n",
      "Epoch 10/30\n",
      "2331/2331 [==============================] - 43s 19ms/step - loss: 0.0014\n",
      "Epoch 11/30\n",
      "2331/2331 [==============================] - 44s 19ms/step - loss: 0.0012\n",
      "Epoch 12/30\n",
      "2331/2331 [==============================] - 45s 19ms/step - loss: 0.0012\n",
      "Epoch 13/30\n",
      "2331/2331 [==============================] - 44s 19ms/step - loss: 0.0013\n",
      "Epoch 14/30\n",
      "2331/2331 [==============================] - 43s 19ms/step - loss: 9.8039e-04\n",
      "Epoch 15/30\n",
      "2331/2331 [==============================] - 43s 18ms/step - loss: 0.0012\n",
      "Epoch 16/30\n",
      "2331/2331 [==============================] - 43s 19ms/step - loss: 0.0012\n",
      "Epoch 17/30\n",
      "2331/2331 [==============================] - 41s 18ms/step - loss: 9.6623e-04\n",
      "Epoch 18/30\n",
      "2331/2331 [==============================] - 37s 16ms/step - loss: 0.0013\n",
      "Epoch 19/30\n",
      "2331/2331 [==============================] - 39s 17ms/step - loss: 0.0010\n",
      "Epoch 20/30\n",
      "2331/2331 [==============================] - 39s 17ms/step - loss: 9.9491e-04\n",
      "Epoch 21/30\n",
      "2331/2331 [==============================] - 43s 18ms/step - loss: 0.0011\n",
      "Epoch 22/30\n",
      "2331/2331 [==============================] - 40s 17ms/step - loss: 9.8171e-04\n",
      "Epoch 23/30\n",
      "2331/2331 [==============================] - 38s 16ms/step - loss: 8.6196e-04\n",
      "Epoch 24/30\n",
      "2331/2331 [==============================] - 38s 17ms/step - loss: 0.0010\n",
      "Epoch 25/30\n",
      "2331/2331 [==============================] - 38s 16ms/step - loss: 9.8306e-04\n",
      "Epoch 26/30\n",
      "2331/2331 [==============================] - 38s 16ms/step - loss: 0.0010\n",
      "Epoch 27/30\n",
      "2331/2331 [==============================] - 38s 16ms/step - loss: 9.3563e-04\n",
      "Epoch 28/30\n",
      "2331/2331 [==============================] - 38s 16ms/step - loss: 7.6185e-04\n",
      "Epoch 29/30\n",
      "2331/2331 [==============================] - 39s 17ms/step - loss: 8.3435e-04\n",
      "Epoch 30/30\n",
      "2331/2331 [==============================] - 39s 17ms/step - loss: 0.0010\n"
     ]
    }
   ],
   "source": [
    "regressor = Sequential()\n",
    "\n",
    "regressor.add(LSTM(units = 50, return_sequences = True, input_shape = (X_train.shape[1], 1)))\n",
    "regressor.add(Dropout(0.2))\n",
    "\n",
    "regressor.add(LSTM(units = 50, return_sequences = True))\n",
    "regressor.add(Dropout(0.2))\n",
    "\n",
    "regressor.add(LSTM(units = 50, return_sequences = True))\n",
    "regressor.add(Dropout(0.2))\n",
    "\n",
    "regressor.add(LSTM(units = 50))\n",
    "regressor.add(Dropout(0.2))\n",
    "\n",
    "regressor.add(Dense(units = 1))\n",
    "\n",
    "regressor.compile(optimizer = 'adam', loss = 'mean_squared_error')\n",
    "\n",
    "history = regressor.fit(X_train, y_train, epochs = 30, batch_size = 32)\n"
   ]
  },
  {
   "cell_type": "code",
   "execution_count": 93,
   "metadata": {},
   "outputs": [],
   "source": [
    "#prediction using actual test info\n",
    "dataset_total = pd.concat((Train['Open'], Test['Open']), axis = 0)\n",
    "inputs = dataset_total[len(dataset_total) - len(Test) - 60:].values\n",
    "inputs = inputs.reshape(-1,1)\n",
    "inputs = sc.transform(inputs)\n",
    "X_test = []\n",
    "for i in range(60, len(test)+60):\n",
    "    X_test.append(inputs[i-60:i, 0])\n",
    "X_test = np.array(X_test)\n",
    "X_test = np.reshape(X_test, (X_test.shape[0], X_test.shape[1], 1))\n",
    "predicted_stock_price = regressor.predict(X_test)\n",
    "predicted_stock_price = sc.inverse_transform(predicted_stock_price)"
   ]
  },
  {
   "cell_type": "code",
   "execution_count": 98,
   "metadata": {},
   "outputs": [
    {
     "name": "stdout",
     "output_type": "stream",
     "text": [
      "(1, 60)\n"
     ]
    },
    {
     "data": {
      "text/plain": [
       "[351.4253]"
      ]
     },
     "execution_count": 98,
     "metadata": {},
     "output_type": "execute_result"
    }
   ],
   "source": [
    "#prediction for first observation\n",
    "dataset_total = Train['Open']\n",
    "inputs = dataset_total[len(dataset_total)-60:].values\n",
    "inputs = inputs.reshape(-1,1)\n",
    "inputs = sc.transform(inputs)\n",
    "pred=[]\n",
    "X_test = []\n",
    "X_test.append(inputs[:, 0])\n",
    "X_test = np.array(X_test)\n",
    "print(X_test.shape)\n",
    "X_test = np.reshape(X_test, (X_test.shape[0], X_test.shape[1], 1))\n",
    "predicted_stock_price_1 = regressor.predict(X_test)\n",
    "predicted_stock_price_1 = sc.inverse_transform(predicted_stock_price_1)\n",
    "pred.append(predicted_stock_price_1[0][0])\n",
    "pred"
   ]
  },
  {
   "cell_type": "code",
   "execution_count": 99,
   "metadata": {},
   "outputs": [],
   "source": [
    "#prediction using prediction\n",
    "dataset_total = Train['Open']\n",
    "inputs = dataset_total[len(dataset_total)-60:].values\n",
    "inputs = inputs.reshape(-1,1)\n",
    "inputs = sc.transform(inputs)\n",
    "X_test = []\n",
    "X_test.append(inputs[:, 0])\n",
    "X_test = np.array(X_test)\n",
    "for i in range(0,len(test)):\n",
    "    X_test=np.delete(X_test,0)\n",
    "    X_test=X_test.reshape(1,59)\n",
    "    X_test=np.append(X_test,pred[-1])\n",
    "    X_test=X_test.reshape(1,60)\n",
    "    X_test = np.array(X_test)\n",
    "    X_test = np.reshape(X_test, (X_test.shape[0], X_test.shape[1], 1))\n",
    "    predicted_stock_price_2 = regressor.predict(X_test)\n",
    "    predicted_stock_price_2 = sc.inverse_transform(predicted_stock_price_2)\n",
    "    pred.append(predicted_stock_price_2[0][0])"
   ]
  },
  {
   "cell_type": "code",
   "execution_count": 100,
   "metadata": {},
   "outputs": [
    {
     "data": {
      "text/plain": [
       "[351.4253,\n",
       " 369.60242,\n",
       " 391.541,\n",
       " 403.8469,\n",
       " 409.7407,\n",
       " 412.7959,\n",
       " 413.9224,\n",
       " 414.22095,\n",
       " 414.1473,\n",
       " 413.93698,\n",
       " 413.69794,\n",
       " 413.47592,\n",
       " 413.28656,\n",
       " 413.13156,\n",
       " 413.0074,\n",
       " 412.90875,\n",
       " 412.8305,\n",
       " 412.7681,\n",
       " 412.71793,\n",
       " 412.6772,\n",
       " 412.64362,\n",
       " 412.61563,\n",
       " 412.5919,\n",
       " 412.57153,\n",
       " 412.5539,\n",
       " 412.53836,\n",
       " 412.52466,\n",
       " 412.5122,\n",
       " 412.501,\n",
       " 412.49072,\n",
       " 412.48126,\n",
       " 412.47244,\n",
       " 412.46417,\n",
       " 412.45624,\n",
       " 412.44858,\n",
       " 412.441,\n",
       " 412.43356,\n",
       " 412.42603,\n",
       " 412.4184,\n",
       " 412.41046,\n",
       " 412.4022,\n",
       " 412.3934,\n",
       " 412.3841,\n",
       " 412.3741,\n",
       " 412.36377,\n",
       " 412.35345,\n",
       " 412.3436,\n",
       " 412.33463,\n",
       " 412.32733,\n",
       " 412.32272,\n",
       " 412.3218,\n",
       " 412.326,\n",
       " 412.33707,\n",
       " 412.3578,\n",
       " 412.3903,\n",
       " 412.43707,\n",
       " 412.502,\n",
       " 412.58676,\n",
       " 412.7041,\n",
       " 412.85196,\n",
       " 413.04144,\n",
       " 413.04178,\n",
       " 413.04196,\n",
       " 413.04193,\n",
       " 413.0421,\n",
       " 413.0421,\n",
       " 413.04202,\n",
       " 413.04202,\n",
       " 413.04202,\n",
       " 413.04193,\n",
       " 413.04184,\n",
       " 413.04184,\n",
       " 413.04178,\n",
       " 413.0418,\n",
       " 413.04178,\n",
       " 413.04172,\n",
       " 413.0417,\n",
       " 413.0417,\n",
       " 413.0416,\n",
       " 413.0417,\n",
       " 413.04163,\n",
       " 413.0416,\n",
       " 413.0416,\n",
       " 413.0416,\n",
       " 413.0415,\n",
       " 413.0415,\n",
       " 413.04156,\n",
       " 413.04156,\n",
       " 413.0415,\n",
       " 413.04156]"
      ]
     },
     "execution_count": 100,
     "metadata": {},
     "output_type": "execute_result"
    }
   ],
   "source": [
    "pred"
   ]
  },
  {
   "cell_type": "code",
   "execution_count": 32,
   "metadata": {},
   "outputs": [
    {
     "data": {
      "text/plain": [
       "89"
      ]
     },
     "execution_count": 32,
     "metadata": {},
     "output_type": "execute_result"
    }
   ],
   "source": [
    "len(X_test)"
   ]
  },
  {
   "cell_type": "code",
   "execution_count": 101,
   "metadata": {},
   "outputs": [
    {
     "data": {
      "image/png": "[encoded data removed]",
      "text/plain": [
       "<Figure size 432x288 with 1 Axes>"
      ]
     },
     "metadata": {},
     "output_type": "display_data"
    }
   ],
   "source": [
    "#plt.plot(train, color = 'black', label = 'BOEING Stock Price')\n",
    "plt.plot(test, color = 'black', label = 'BOEING Stock Price')\n",
    "plt.plot(pd.Series(pred), color = 'black', label = 'Pred-on-pred')\n",
    "plt.plot(predicted_stock_price, color = 'green', label = 'Predicted Boeing Stock Price')\n",
    "plt.title('Boeing Stock Price Prediction')\n",
    "plt.xlabel('Time')\n",
    "plt.ylabel('Boeing Stock Price')\n",
    "plt.legend()\n",
    "plt.show()"
   ]
  }
 ],
 "metadata": {
  "kernelspec": {
   "display_name": "Python 3",
   "language": "python",
   "name": "python3"
  },
  "language_info": {
   "codemirror_mode": {
    "name": "ipython",
    "version": 3
   },
   "file_extension": ".py",
   "mimetype": "text/x-python",
   "name": "python",
   "nbconvert_exporter": "python",
   "pygments_lexer": "ipython3",
   "version": "3.6.5"
  }
 },
 "nbformat": 4,
 "nbformat_minor": 2
}
