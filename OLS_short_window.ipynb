{
 "cells": [
  {
   "cell_type": "code",
   "execution_count": 111,
   "metadata": {},
   "outputs": [],
   "source": [
    "import pandas as pd\n",
    "import numpy as np\n",
    "from pandas import read_csv\n",
    "from pandas import datetime\n",
    "from matplotlib import pyplot\n",
    "from pandas.core import datetools\n",
    "from pandas import Series, DataFrame\n",
    "import matplotlib.pyplot as plt\n",
    "import statsmodels.api as sm\n",
    "from statsmodels.graphics.tsaplots import plot_acf"
   ]
  },
  {
   "cell_type": "code",
   "execution_count": 112,
   "metadata": {},
   "outputs": [],
   "source": [
    "data=pd.read_csv(\"all.csv\")"
   ]
  },
  {
   "cell_type": "code",
   "execution_count": 113,
   "metadata": {},
   "outputs": [
    {
     "data": {
      "text/html": [
       "<div>\n",
       "<style scoped>\n",
       "    .dataframe tbody tr th:only-of-type {\n",
       "        vertical-align: middle;\n",
       "    }\n",
       "\n",
       "    .dataframe tbody tr th {\n",
       "        vertical-align: top;\n",
       "    }\n",
       "\n",
       "    .dataframe thead th {\n",
       "        text-align: right;\n",
       "    }\n",
       "</style>\n",
       "<table border=\"1\" class=\"dataframe\">\n",
       "  <thead>\n",
       "    <tr style=\"text-align: right;\">\n",
       "      <th></th>\n",
       "      <th>Date</th>\n",
       "      <th>Adj_Close</th>\n",
       "      <th>Volume</th>\n",
       "      <th>Oil_price</th>\n",
       "      <th>Adj_Close_SP</th>\n",
       "    </tr>\n",
       "  </thead>\n",
       "  <tbody>\n",
       "    <tr>\n",
       "      <th>0</th>\n",
       "      <td>2009-05-01</td>\n",
       "      <td>31.726078</td>\n",
       "      <td>5508800</td>\n",
       "      <td>53.20</td>\n",
       "      <td>877.520020</td>\n",
       "    </tr>\n",
       "    <tr>\n",
       "      <th>1</th>\n",
       "      <td>2009-05-04</td>\n",
       "      <td>32.472832</td>\n",
       "      <td>5269800</td>\n",
       "      <td>54.47</td>\n",
       "      <td>907.239990</td>\n",
       "    </tr>\n",
       "    <tr>\n",
       "      <th>2</th>\n",
       "      <td>2009-05-05</td>\n",
       "      <td>33.219616</td>\n",
       "      <td>7683900</td>\n",
       "      <td>53.84</td>\n",
       "      <td>903.799988</td>\n",
       "    </tr>\n",
       "    <tr>\n",
       "      <th>3</th>\n",
       "      <td>2009-05-06</td>\n",
       "      <td>34.362438</td>\n",
       "      <td>7930300</td>\n",
       "      <td>56.34</td>\n",
       "      <td>919.530029</td>\n",
       "    </tr>\n",
       "    <tr>\n",
       "      <th>4</th>\n",
       "      <td>2009-05-07</td>\n",
       "      <td>33.841553</td>\n",
       "      <td>7106700</td>\n",
       "      <td>56.71</td>\n",
       "      <td>907.390015</td>\n",
       "    </tr>\n",
       "  </tbody>\n",
       "</table>\n",
       "</div>"
      ],
      "text/plain": [
       "         Date  Adj_Close   Volume  Oil_price  Adj_Close_SP\n",
       "0  2009-05-01  31.726078  5508800      53.20    877.520020\n",
       "1  2009-05-04  32.472832  5269800      54.47    907.239990\n",
       "2  2009-05-05  33.219616  7683900      53.84    903.799988\n",
       "3  2009-05-06  34.362438  7930300      56.34    919.530029\n",
       "4  2009-05-07  33.841553  7106700      56.71    907.390015"
      ]
     },
     "execution_count": 113,
     "metadata": {},
     "output_type": "execute_result"
    }
   ],
   "source": [
    "data.head()\n"
   ]
  },
  {
   "cell_type": "code",
   "execution_count": 114,
   "metadata": {},
   "outputs": [],
   "source": [
    "event_1='2018-10-29'\n",
    "event_2='2019-03-10'"
   ]
  },
  {
   "cell_type": "code",
   "execution_count": 115,
   "metadata": {},
   "outputs": [],
   "source": [
    "data['Date']=pd.to_datetime(data[\"Date\"])"
   ]
  },
  {
   "cell_type": "code",
   "execution_count": 116,
   "metadata": {},
   "outputs": [],
   "source": [
    "data[\"after_1\"]=np.where((data.Date>=event_1)&(data.Date<='2018-11-1'),1,0)\n",
    "data[\"after_2\"]=np.where((data.Date>=event_2)&(data.Date<='2019-03-13'),1,0)"
   ]
  },
  {
   "cell_type": "code",
   "execution_count": 117,
   "metadata": {},
   "outputs": [],
   "source": [
    "data=data.set_index(data.Date)\n",
    "data=data.drop(\"Date\",axis=1)"
   ]
  },
  {
   "cell_type": "code",
   "execution_count": 118,
   "metadata": {},
   "outputs": [],
   "source": [
    "data['Y'] = data['Adj_Close'].diff(periods=1)\n",
    "data['Oil_diff'] = data['Oil_price'].diff(periods=1)\n",
    "data.dropna(inplace=True)"
   ]
  },
  {
   "cell_type": "code",
   "execution_count": 119,
   "metadata": {},
   "outputs": [],
   "source": [
    "X_multi=data.drop(['Adj_Close','Y','Volume','Adj_Close_SP',\"Oil_price\"], axis=1)\n",
    "Y_target=data.Y"
   ]
  },
  {
   "cell_type": "code",
   "execution_count": 120,
   "metadata": {},
   "outputs": [],
   "source": [
    "X_multi=sm.tools.tools.add_constant(X_multi, prepend=True, has_constant='skip')"
   ]
  },
  {
   "cell_type": "code",
   "execution_count": 121,
   "metadata": {},
   "outputs": [
    {
     "name": "stdout",
     "output_type": "stream",
     "text": [
      "                            OLS Regression Results                            \n",
      "==============================================================================\n",
      "Dep. Variable:                      Y   R-squared:                       0.057\n",
      "Model:                            OLS   Adj. R-squared:                  0.056\n",
      "Method:                 Least Squares   F-statistic:                     50.59\n",
      "Date:                Mon, 13 May 2019   Prob (F-statistic):           9.65e-32\n",
      "Time:                        18:52:02   Log-Likelihood:                -6100.7\n",
      "No. Observations:                2514   AIC:                         1.221e+04\n",
      "Df Residuals:                    2510   BIC:                         1.223e+04\n",
      "Df Model:                           3                                         \n",
      "Covariance Type:            nonrobust                                         \n",
      "==============================================================================\n",
      "                 coef    std err          t      P>|t|      [0.025      0.975]\n",
      "------------------------------------------------------------------------------\n",
      "const          0.1537      0.055      2.806      0.005       0.046       0.261\n",
      "after_1        1.0888      1.372      0.793      0.428      -1.602       3.780\n",
      "after_2      -15.5128      1.584     -9.793      0.000     -18.619     -12.407\n",
      "Oil_diff       0.3093      0.041      7.632      0.000       0.230       0.389\n",
      "==============================================================================\n",
      "Omnibus:                      583.664   Durbin-Watson:                   2.060\n",
      "Prob(Omnibus):                  0.000   Jarque-Bera (JB):            27154.639\n",
      "Skew:                           0.170   Prob(JB):                         0.00\n",
      "Kurtosis:                      19.097   Cond. No.                         39.1\n",
      "==============================================================================\n",
      "\n",
      "Warnings:\n",
      "[1] Standard Errors assume that the covariance matrix of the errors is correctly specified.\n"
     ]
    }
   ],
   "source": [
    "# OLS Regression\n",
    "mod = sm.OLS(Y_target, X_multi)\n",
    "res = mod.fit()\n",
    "print(res.summary())"
   ]
  },
  {
   "cell_type": "code",
   "execution_count": 122,
   "metadata": {},
   "outputs": [
    {
     "data": {
      "image/png": "[encoded data removed]",
      "text/plain": [
       "<Figure size 432x288 with 1 Axes>"
      ]
     },
     "metadata": {},
     "output_type": "display_data"
    },
    {
     "name": "stdout",
     "output_type": "stream",
     "text": [
      "                  0\n",
      "count  2.514000e+03\n",
      "mean  -2.137422e-17\n",
      "std    2.739984e+00\n",
      "min   -2.452569e+01\n",
      "25%   -8.269281e-01\n",
      "50%   -7.471275e-02\n",
      "75%    7.621320e-01\n",
      "max    2.225773e+01\n"
     ]
    },
    {
     "data": {
      "image/png": "[encoded data removed]",
      "text/plain": [
       "<Figure size 432x288 with 1 Axes>"
      ]
     },
     "metadata": {},
     "output_type": "display_data"
    }
   ],
   "source": [
    "residuals = DataFrame(res.resid)\n",
    "residuals.plot()\n",
    "plt.show()\n",
    "print(residuals.describe())\n",
    "plot_acf(residuals,lags=12)\n",
    "plt.show()\n",
    "# the plot shows that there is significant serial correlation at lag"
   ]
  }
 ],
 "metadata": {
  "kernelspec": {
   "display_name": "Python 3",
   "language": "python",
   "name": "python3"
  },
  "language_info": {
   "codemirror_mode": {
    "name": "ipython",
    "version": 3
   },
   "file_extension": ".py",
   "mimetype": "text/x-python",
   "name": "python",
   "nbconvert_exporter": "python",
   "pygments_lexer": "ipython3",
   "version": "3.6.5"
  }
 },
 "nbformat": 4,
 "nbformat_minor": 2
}
